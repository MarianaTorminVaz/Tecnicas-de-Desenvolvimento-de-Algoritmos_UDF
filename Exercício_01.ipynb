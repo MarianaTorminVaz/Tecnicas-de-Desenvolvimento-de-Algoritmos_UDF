{
  "nbformat": 4,
  "nbformat_minor": 0,
  "metadata": {
    "colab": {
      "provenance": [],
      "authorship_tag": "ABX9TyOJPO/hFgSueqxTYsYeFeSB",
      "include_colab_link": true
    },
    "kernelspec": {
      "name": "python3",
      "display_name": "Python 3"
    },
    "language_info": {
      "name": "python"
    }
  },
  "cells": [
    {
      "cell_type": "markdown",
      "metadata": {
        "id": "view-in-github",
        "colab_type": "text"
      },
      "source": [
        "<a href=\"https://colab.research.google.com/github/MarianaTorminVaz/Tecnicas-de-Desenvolvimento-de-Algoritmos_UDF/blob/main/Exerc%C3%ADcio_01.ipynb\" target=\"_parent\"><img src=\"https://colab.research.google.com/assets/colab-badge.svg\" alt=\"Open In Colab\"/></a>"
      ]
    },
    {
      "cell_type": "code",
      "execution_count": null,
      "metadata": {
        "id": "OC1E32D4HXZO"
      },
      "outputs": [],
      "source": [
        "1.\n",
        "print ('Meu primeiro programa!!!')"
      ]
    },
    {
      "cell_type": "code",
      "source": [
        "2.\n",
        "num = int(input('Escreva um número inteiro: '))\n",
        "print ('{}'.format(num))"
      ],
      "metadata": {
        "id": "zRt8GjRHHch5"
      },
      "execution_count": null,
      "outputs": []
    },
    {
      "cell_type": "code",
      "source": [
        "3.\n",
        "num = int(input('Escreva um número inteiro: '))\n",
        "print ('Foi informado o valor: {}'.format(num))"
      ],
      "metadata": {
        "id": "pXFyEl5JHs3N"
      },
      "execution_count": null,
      "outputs": []
    },
    {
      "cell_type": "code",
      "source": [
        "4.\n",
        "num1 = int(input('Escreva o primeiro número inteiro: '))\n",
        "num2 = int(input('Escreva o segundo número inteiro: '))\n",
        "print ('Você informou os números {} e {}'.format(num1,num2))"
      ],
      "metadata": {
        "id": "1a0DfA-cHxo_"
      },
      "execution_count": null,
      "outputs": []
    },
    {
      "cell_type": "code",
      "source": [
        "5.\n",
        "num = float(input(\"Digite um número real: \"))\n",
        "print(f\"Você informou o número {num:.2f}\")"
      ],
      "metadata": {
        "id": "IVYVgnQ7H1vV"
      },
      "execution_count": null,
      "outputs": []
    },
    {
      "cell_type": "code",
      "source": [
        "6.\n",
        "temp = float(input('Escreva uma temperatura em celsius: '))\n",
        "F = temp * 1.8 + 32\n",
        "print('A temperatura correspondente em graus Farenheit é: {:.2f}'.format(F))"
      ],
      "metadata": {
        "id": "rtd6XJyAH69B"
      },
      "execution_count": null,
      "outputs": []
    },
    {
      "cell_type": "code",
      "source": [
        "7.\n",
        "num1 = int(input('Escreva um número inteiro: '))\n",
        "num2 = float(input('Escreva um número real: '))\n",
        "print ('Você informou os números {} e {:.2f}'.format(num1,num2))"
      ],
      "metadata": {
        "id": "YQ3AhDzYIA4Y"
      },
      "execution_count": null,
      "outputs": []
    },
    {
      "cell_type": "code",
      "source": [
        "8.\n",
        "letra = input('Digite a primeira letra do seu nome: ')\n",
        "print('Você digitou a letra: {}'.format(letra))"
      ],
      "metadata": {
        "id": "jUTDl--NIFEZ"
      },
      "execution_count": null,
      "outputs": []
    },
    {
      "cell_type": "code",
      "source": [
        "9.\n",
        "cor = input(\"Digite sua cor preferida: \")\n",
        "print(f\"Você gosta da cor {cor}\")\n"
      ],
      "metadata": {
        "id": "9AMiRjP1IJLp"
      },
      "execution_count": null,
      "outputs": []
    },
    {
      "cell_type": "code",
      "source": [
        "10.\n",
        "verdura = input('Digite uma verdura de sua preferência: ')\n",
        "fruta = input('Digite uma fruta de sua preferência: ')\n",
        "print('Você gosta de {} e {}'.format(verdura, fruta))"
      ],
      "metadata": {
        "id": "NRD2SXd3INEK"
      },
      "execution_count": null,
      "outputs": []
    },
    {
      "cell_type": "code",
      "source": [
        "11.\n",
        "num = float(input(\"Digite um número real: \"))\n",
        "dobro = num * 2\n",
        "print(\"Número -> {:.2f}\".format(num))\n",
        "print(\"O dobro deste numero -> {:.2f}\".format(dobro))\n"
      ],
      "metadata": {
        "id": "ObmYjrHhIQoS"
      },
      "execution_count": null,
      "outputs": []
    },
    {
      "cell_type": "code",
      "source": [
        "12.\n",
        "num = float(input(\"Digite um número real: \"))\n",
        "quadrado = num ** 2\n",
        "cubo = num ** 3\n",
        "print(\"Número -> {:.2f}\".format(num))\n",
        "print(\"O quadrado deste número -> {:.2f}\".format(quadrado))\n",
        "print(\"O cubo deste número -> {:.2f}\".format(cubo))\n"
      ],
      "metadata": {
        "id": "14zFgP_fIYVg"
      },
      "execution_count": null,
      "outputs": []
    },
    {
      "cell_type": "code",
      "source": [
        "13.\n",
        "num1 = int(input('Escreva o primeiro número inteiro: '))\n",
        "num2 = int(input('Escreva o segundo número inteiro: '))\n",
        "soma = num1 + num2\n",
        "print('Os números {} e {} somados correspondem a {}'.format(num1, num2, soma))"
      ],
      "metadata": {
        "id": "o11DtvyNIb5n"
      },
      "execution_count": null,
      "outputs": []
    },
    {
      "cell_type": "code",
      "source": [
        "14.\n",
        "num1 = float(input('Escreva o primeiro número real: '))\n",
        "num2 = float(input('Escreva o segundo número real: '))\n",
        "produto = num1 * num2\n",
        "print('O produto dos números {:.2f} e {:.2f} corresponde a {:.2f}'.format(num1, num2, produto))"
      ],
      "metadata": {
        "id": "UarjBNCcIit8"
      },
      "execution_count": null,
      "outputs": []
    },
    {
      "cell_type": "code",
      "source": [
        "15.\n",
        "num1 = float(input(\"Digite o primeiro número: \"))\n",
        "num2 = float(input(\"Digite o segundo número: \"))\n",
        "soma = num1 + num2\n",
        "subtracao = num1 - num2\n",
        "produto = num1 * num2\n",
        "divisao = num1 / num2\n",
        "print(f\"Soma: {soma}\")\n",
        "print(f\"Subtração: {subtracao}\")\n",
        "print(f\"Produto: {produto}\")\n",
        "print(f\"Divisão: {divisao}\")\n"
      ],
      "metadata": {
        "id": "zJ-BCcVdIn4f"
      },
      "execution_count": null,
      "outputs": []
    },
    {
      "cell_type": "code",
      "source": [
        "16.\n",
        "salario_fixo = float(input(\"Digite o salário fixo do vendedor: \"))\n",
        "total_vendas = float(input(\"Digite o total vendido no mês: \"))\n",
        "percentual_comissao = float(input(\"Digite o percentual de comissão (%): \"))\n",
        "comissao = total_vendas * (percentual_comissao / 100)\n",
        "salario_bruto = salario_fixo + comissao\n",
        "print(\"O salário bruto do vendedor é R$ {:.2f}\".format(salario_bruto))\n"
      ],
      "metadata": {
        "id": "B7vf32XqIrUr"
      },
      "execution_count": null,
      "outputs": []
    }
  ]
}