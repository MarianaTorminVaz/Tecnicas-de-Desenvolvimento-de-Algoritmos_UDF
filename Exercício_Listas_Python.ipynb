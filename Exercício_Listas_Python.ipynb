{
  "nbformat": 4,
  "nbformat_minor": 0,
  "metadata": {
    "colab": {
      "provenance": [],
      "authorship_tag": "ABX9TyMtfj0sFsE8eXZRE9uIxG7/",
      "include_colab_link": true
    },
    "kernelspec": {
      "name": "python3",
      "display_name": "Python 3"
    },
    "language_info": {
      "name": "python"
    }
  },
  "cells": [
    {
      "cell_type": "markdown",
      "metadata": {
        "id": "view-in-github",
        "colab_type": "text"
      },
      "source": [
        "<a href=\"https://colab.research.google.com/github/MarianaTorminVaz/Tecnicas-de-Desenvolvimento-de-Algoritmos_UDF/blob/main/Exerc%C3%ADcio_Listas_Python.ipynb\" target=\"_parent\"><img src=\"https://colab.research.google.com/assets/colab-badge.svg\" alt=\"Open In Colab\"/></a>"
      ]
    },
    {
      "cell_type": "code",
      "execution_count": 2,
      "metadata": {
        "colab": {
          "base_uri": "https://localhost:8080/"
        },
        "id": "1PvPF2sewDoF",
        "outputId": "22cbc80d-6c68-4152-ec42-ca2109574cad"
      },
      "outputs": [
        {
          "output_type": "stream",
          "name": "stdout",
          "text": [
            "Digite um número: 7\n",
            "1 \n",
            "1 2 \n",
            "1 2 3 \n",
            "1 2 3 4 \n",
            "1 2 3 4 5 \n",
            "1 2 3 4 5 6 \n",
            "1 2 3 4 5 6 7 \n"
          ]
        }
      ],
      "source": [
        "#Faça um programa que leia um número n e imprima n linhas na tela\n",
        "#com o seguinte formato (exemplo se n = 5):\n",
        "num = int(input(\"Digite um número: \"))\n",
        "for i in range(1, num + 1):\n",
        "    for j in range(1, i + 1):\n",
        "        print(j, end=\" \")\n",
        "    print()"
      ]
    },
    {
      "cell_type": "code",
      "source": [
        "#Faça um programa que leia n notas, mostre as notas e a média.\n",
        "notas = int(input(\"Digite o número de notas que serão informadas: \"))\n",
        "total_notas = 0\n",
        "lista_notas = []\n",
        "\n",
        "for i in range(notas):\n",
        "  nota = float(input(f\"Digite a nota {i+1}: \"))\n",
        "  lista_notas.append(nota)\n",
        "  total_notas += nota\n",
        "\n",
        "media = total_notas / notas\n",
        "\n",
        "print(\"\\nNotas informadas:\")\n",
        "for nota in lista_notas:\n",
        "  print(nota)\n",
        "\n",
        "print(f\"\\nMédia das notas: {media}\")"
      ],
      "metadata": {
        "colab": {
          "base_uri": "https://localhost:8080/"
        },
        "id": "5l1nYKB5ymgS",
        "outputId": "5f97acdb-d45c-4946-d533-745908602cd4"
      },
      "execution_count": 3,
      "outputs": [
        {
          "output_type": "stream",
          "name": "stdout",
          "text": [
            "Digite o número de notas que serão informadas: 4\n",
            "Digite a nota 1: 6.7\n",
            "Digite a nota 2: 8.8\n",
            "Digite a nota 3: 10\n",
            "Digite a nota 4: 2.3\n",
            "\n",
            "Notas informadas:\n",
            "6.7\n",
            "8.8\n",
            "10.0\n",
            "2.3\n",
            "\n",
            "Média das notas: 6.95\n"
          ]
        }
      ]
    },
    {
      "cell_type": "code",
      "source": [
        "#Faça um programa que:\n",
        "# 1)Lê duas listas com 5 inteiros cada.\n",
        "# 2)Checa quais elementos da segunda lista são iguais a algum elemento\n",
        "#da primeira lista.\n",
        "# 3)Se não houver elementos em comum, o programa deve informar isso.\n",
        "\n",
        "lista1 = []\n",
        "lista2 = []\n",
        "\n",
        "print(\"Digite 5 inteiros para a primeira lista:\")\n",
        "for i in range(5):\n",
        "    num = int(input(f\"Digite o {i+1}º número: \"))\n",
        "    lista1.append(num)\n",
        "\n",
        "print(\"\\nDigite 5 inteiros para a segunda lista:\")\n",
        "for i in range(5):\n",
        "    num = int(input(f\"Digite o {i+1}º número: \"))\n",
        "    lista2.append(num)\n",
        "\n",
        "elementos_comuns = []\n",
        "for elemento in lista2:\n",
        "    if elemento in lista1 and elemento not in elementos_comuns:\n",
        "        elementos_comuns.append(elemento)\n",
        "\n",
        "if elementos_comuns:\n",
        "    print(\"\\nElementos em comum:\")\n",
        "    for elemento in elementos_comuns:\n",
        "        print(elemento)\n",
        "else:\n",
        "    print(\"\\nNão há elementos em comum entre as duas listas.\")"
      ],
      "metadata": {
        "colab": {
          "base_uri": "https://localhost:8080/"
        },
        "id": "IQrXufvF17bc",
        "outputId": "fd02b989-0cec-4323-d375-2aff4738dc74"
      },
      "execution_count": 4,
      "outputs": [
        {
          "output_type": "stream",
          "name": "stdout",
          "text": [
            "Digite 5 inteiros para a primeira lista:\n",
            "Digite o 1º número: 7\n",
            "Digite o 2º número: 13\n",
            "Digite o 3º número: 18\n",
            "Digite o 4º número: 58\n",
            "Digite o 5º número: 59\n",
            "\n",
            "Digite 5 inteiros para a segunda lista:\n",
            "Digite o 1º número: 22\n",
            "Digite o 2º número: 7\n",
            "Digite o 3º número: 13\n",
            "Digite o 4º número: 80\n",
            "Digite o 5º número: 67\n",
            "\n",
            "Elementos em comum:\n",
            "7\n",
            "13\n"
          ]
        }
      ]
    }
  ]
}