{
  "nbformat": 4,
  "nbformat_minor": 0,
  "metadata": {
    "colab": {
      "provenance": [],
      "authorship_tag": "ABX9TyMnaIL7K8mfEjgzQOsa71OP",
      "include_colab_link": true
    },
    "kernelspec": {
      "name": "python3",
      "display_name": "Python 3"
    },
    "language_info": {
      "name": "python"
    }
  },
  "cells": [
    {
      "cell_type": "markdown",
      "metadata": {
        "id": "view-in-github",
        "colab_type": "text"
      },
      "source": [
        "<a href=\"https://colab.research.google.com/github/MarianaTorminVaz/Tecnicas-de-Desenvolvimento-de-Algoritmos_UDF/blob/main/Exerc%C3%ADcios_de_Listas%2C_Tuplas_e_Dicion%C3%A1rios.ipynb\" target=\"_parent\"><img src=\"https://colab.research.google.com/assets/colab-badge.svg\" alt=\"Open In Colab\"/></a>"
      ]
    },
    {
      "cell_type": "code",
      "execution_count": 1,
      "metadata": {
        "colab": {
          "base_uri": "https://localhost:8080/"
        },
        "id": "dvR7M-pl4Ep9",
        "outputId": "42bcd72a-9e2c-430a-8d1d-7ba987cfaa56"
      },
      "outputs": [
        {
          "output_type": "stream",
          "name": "stdout",
          "text": [
            "Digite o 1º número inteiro: 7\n",
            "Digite o 2º número inteiro: 13\n",
            "Digite o 3º número inteiro: 9.8\n",
            "Entrada inválida. Por favor, digite um número inteiro.\n",
            "Digite o 3º número inteiro: 18\n",
            "Digite o 4º número inteiro: 58\n",
            "Digite o 5º número inteiro: 59\n",
            "A lista de números é: [7, 13, 18, 58, 59]\n"
          ]
        }
      ],
      "source": [
        "#TAREFA 1\n",
        "#Escreva um programa que solicita que o\n",
        "#usuário digite 5 números inteiros e os coloca\n",
        "#em uma lista.\n",
        "#Quando terminar, imprima a lista.\n",
        "\n",
        "numeros = []\n",
        "for i in range(5):\n",
        "  while True:\n",
        "    try:\n",
        "      numero = int(input(f\"Digite o {i+1}º número inteiro: \"))\n",
        "      numeros.append(numero)\n",
        "      break\n",
        "    except ValueError:\n",
        "      print(\"Entrada inválida. Por favor, digite um número inteiro.\")\n",
        "\n",
        "print(\"A lista de números é:\", numeros)"
      ]
    },
    {
      "cell_type": "code",
      "source": [
        "#TAREFA 2\n",
        "#Escreva um programa que aplica a função\n",
        "#módulo a todos os elementos e uma lista.\n",
        "\n",
        "def aplicar_modulo(lista):\n",
        "  \"\"\"Aplica a função módulo (valor absoluto) a todos os elementos de uma lista.\"\"\"\n",
        "  lista_com_modulo = [abs(elemento) for elemento in lista]\n",
        "  return lista_com_modulo\n",
        "\n",
        "# Exemplo de uso com a lista da TAREFA 1\n",
        "if 'numeros' in locals(): # Verifica se a variável 'numeros' existe\n",
        "  lista_original = numeros\n",
        "  lista_processada = aplicar_modulo(lista_original)\n",
        "  print(\"Lista original:\", lista_original)\n",
        "  print(\"Lista com módulo aplicado:\", lista_processada)\n",
        "else:\n",
        "  print(\"A lista 'numeros' da TAREFA 1 não foi encontrada. Por favor, execute a TAREFA 1 primeiro.\")"
      ],
      "metadata": {
        "colab": {
          "base_uri": "https://localhost:8080/"
        },
        "id": "JXq8hbHz5W1-",
        "outputId": "dab4b423-44d0-404d-db57-52559ee6b3f7"
      },
      "execution_count": 2,
      "outputs": [
        {
          "output_type": "stream",
          "name": "stdout",
          "text": [
            "Lista original: [7, 13, 18, 58, 59]\n",
            "Lista com módulo aplicado: [7, 13, 18, 58, 59]\n"
          ]
        }
      ]
    },
    {
      "cell_type": "code",
      "source": [
        "#TAREFA 3\n",
        "#Escreva um programa que apaga todos os\n",
        "#elementos negativos de uma lista.\n",
        "\n",
        "def remover_negativos(lista):\n",
        "  \"\"\"Remove todos os elementos negativos de uma lista.\"\"\"\n",
        "  lista_sem_negativos = [elemento for elemento in lista if elemento >= 0]\n",
        "  return lista_sem_negativos\n",
        "\n",
        "# Exemplo de uso (você pode usar a lista 'numeros' da TAREFA 1 se ela existir)\n",
        "if 'numeros' in locals():\n",
        "  lista_original_tarefa3 = numeros\n",
        "  lista_processada_tarefa3 = remover_negativos(lista_original_tarefa3)\n",
        "  print(\"Lista original:\", lista_original_tarefa3)\n",
        "  print(\"Lista sem negativos:\", lista_processada_tarefa3)\n",
        "else:\n",
        "  print(\"A lista 'numeros' da TAREFA 1 não foi encontrada. Por favor, execute a TAREFA 1 primeiro ou crie uma lista para testar.\")"
      ],
      "metadata": {
        "id": "PvK-_zw55tiM"
      },
      "execution_count": null,
      "outputs": []
    },
    {
      "cell_type": "code",
      "source": [
        "#TAREFA 4\n",
        "#Faça um programa que solicita uma\n",
        "#quantidade indefinida de notas de uma\n",
        "#prova (deve parar quando um número\n",
        "#negativo for digitado).\n",
        "#Armazena em uma lista.\n",
        "#Após isso, o programa deve mostrar a média\n",
        "#das notas.\n",
        "\n",
        "notas = []\n",
        "while True:\n",
        "  try:\n",
        "    nota = float(input(\"Digite a nota da prova (ou um número negativo para parar): \"))\n",
        "    if nota < 0:\n",
        "      break\n",
        "    notas.append(nota)\n",
        "  except ValueError:\n",
        "    print(\"Entrada inválida. Por favor, digite um número para a nota.\")\n",
        "\n",
        "if notas: # Verifica se a lista de notas não está vazia\n",
        "  media = sum(notas) / len(notas)\n",
        "  print(\"A lista de notas é:\", notas)\n",
        "  print(\"A média das notas é:\", media)\n",
        "else:\n",
        "  print(\"Nenhuma nota válida foi digitada.\")"
      ],
      "metadata": {
        "colab": {
          "base_uri": "https://localhost:8080/"
        },
        "id": "H4BE7YN46DCo",
        "outputId": "84923327-1211-4d6f-cd38-e77f5fb80e46"
      },
      "execution_count": 3,
      "outputs": [
        {
          "output_type": "stream",
          "name": "stdout",
          "text": [
            "Digite a nota da prova (ou um número negativo para parar): 7\n",
            "Digite a nota da prova (ou um número negativo para parar): -1\n",
            "A lista de notas é: [7.0]\n",
            "A média das notas é: 7.0\n"
          ]
        }
      ]
    },
    {
      "cell_type": "code",
      "source": [
        "#TAREFA 5\n",
        "#Faça um programa que solicita uma\n",
        "#quantidade indefinida de números positivos\n",
        "#(deve parar quando um número negativo for\n",
        "#digitado).\n",
        "#Armazene-os em duas listas:\n",
        "#uma para os números pares;\n",
        "#outra para os números ímpares.\n",
        "#A seguir, mostre a porcentagem de pares e\n",
        "#ímpares digitados.\n",
        "\n",
        "numeros_pares = []\n",
        "numeros_impares = []\n",
        "total_numeros = 0\n",
        "\n",
        "while True:\n",
        "  try:\n",
        "    numero = int(input(\"Digite um número positivo (ou um número negativo para parar): \"))\n",
        "    if numero < 0:\n",
        "      break\n",
        "    total_numeros += 1\n",
        "    if numero % 2 == 0:\n",
        "      numeros_pares.append(numero)\n",
        "    else:\n",
        "      numeros_impares.append(numero)\n",
        "  except ValueError:\n",
        "    print(\"Entrada inválida. Por favor, digite um número inteiro.\")\n",
        "\n",
        "if total_numeros > 0:\n",
        "  porcentagem_pares = (len(numeros_pares) / total_numeros) * 100\n",
        "  porcentagem_impares = (len(numeros_impares) / total_numeros) * 100\n",
        "\n",
        "  print(\"\\nLista de números pares:\", numeros_pares)\n",
        "  print(\"Lista de números ímpares:\", numeros_impares)\n",
        "  print(f\"\\nPorcentagem de números pares: {porcentagem_pares:.2f}%\")\n",
        "  print(f\"Porcentagem de números ímpares: {porcentagem_impares:.2f}%\")\n",
        "else:\n",
        "  print(\"\\nNenhum número positivo foi digitado.\")"
      ],
      "metadata": {
        "colab": {
          "base_uri": "https://localhost:8080/"
        },
        "id": "lsuubme2-HPA",
        "outputId": "5e099187-276f-4edd-cb54-29241765f89d"
      },
      "execution_count": 4,
      "outputs": [
        {
          "output_type": "stream",
          "name": "stdout",
          "text": [
            "Digite um número positivo (ou um número negativo para parar): 7\n",
            "Digite um número positivo (ou um número negativo para parar): 13\n",
            "Digite um número positivo (ou um número negativo para parar): 18\n",
            "Digite um número positivo (ou um número negativo para parar): 58\n",
            "Digite um número positivo (ou um número negativo para parar): 59\n",
            "Digite um número positivo (ou um número negativo para parar): 4\n",
            "Digite um número positivo (ou um número negativo para parar): 2\n",
            "Digite um número positivo (ou um número negativo para parar): -13\n",
            "\n",
            "Lista de números pares: [18, 58, 4, 2]\n",
            "Lista de números ímpares: [7, 13, 59]\n",
            "\n",
            "Porcentagem de números pares: 57.14%\n",
            "Porcentagem de números ímpares: 42.86%\n"
          ]
        }
      ]
    },
    {
      "cell_type": "code",
      "source": [
        "#TAREFA 6\n",
        "#Faça um programa que solicita uma\n",
        "#quantidade indefinida de números positivos\n",
        "#(deve parar quando um número negativo for\n",
        "#digitado).\n",
        "#Armazene todos os números digitados em\n",
        "#uma lista, sem repetição.\n",
        "\n",
        "numeros_unicos = []\n",
        "\n",
        "while True:\n",
        "  try:\n",
        "    numero = int(input(\"Digite um número positivo (ou um número negativo para parar): \"))\n",
        "    if numero < 0:\n",
        "      break\n",
        "    if numero not in numeros_unicos:\n",
        "      numeros_unicos.append(numero)\n",
        "  except ValueError:\n",
        "    print(\"Entrada inválida. Por favor, digite um número inteiro.\")\n",
        "\n",
        "print(\"\\nLista de números únicos digitados:\", numeros_unicos)"
      ],
      "metadata": {
        "colab": {
          "base_uri": "https://localhost:8080/"
        },
        "id": "tA-nCn6c-ch7",
        "outputId": "53f5fade-41e9-48c4-eaff-799b6c820f6d"
      },
      "execution_count": 6,
      "outputs": [
        {
          "output_type": "stream",
          "name": "stdout",
          "text": [
            "Digite um número positivo (ou um número negativo para parar): 7\n",
            "Digite um número positivo (ou um número negativo para parar): 7\n",
            "Digite um número positivo (ou um número negativo para parar): 7\n",
            "Digite um número positivo (ou um número negativo para parar): 13\n",
            "Digite um número positivo (ou um número negativo para parar): 18\n",
            "Digite um número positivo (ou um número negativo para parar): 58\n",
            "Digite um número positivo (ou um número negativo para parar): 18\n",
            "Digite um número positivo (ou um número negativo para parar): 59\n",
            "Digite um número positivo (ou um número negativo para parar): -1\n",
            "\n",
            "Lista de números únicos digitados: [7, 13, 18, 58, 59]\n"
          ]
        }
      ]
    },
    {
      "cell_type": "code",
      "source": [
        "#TAREFA 7\n",
        "#Escreva um programa que solicita que o\n",
        "#usuário digite a altura e o peso de 5 pessoas.\n",
        "#Verifique se pelo menos duas das pessoas\n",
        "#tem a mesma altura e mesmo peso.\n",
        "\n",
        "pessoas = []\n",
        "for i in range(5):\n",
        "  while True:\n",
        "    try:\n",
        "      altura = float(input(f\"Digite a altura da {i+1}ª pessoa (em metros): \"))\n",
        "      peso = float(input(f\"Digite o peso da {i+1}ª pessoa (em kg): \"))\n",
        "      pessoas.append((altura, peso))\n",
        "      break\n",
        "    except ValueError:\n",
        "      print(\"Entrada inválida. Por favor, digite números para altura e peso.\")\n",
        "\n",
        "tem_duplicados = False\n",
        "for i in range(len(pessoas)):\n",
        "  for j in range(i + 1, len(pessoas)):\n",
        "    if pessoas[i] == pessoas[j]:\n",
        "      tem_duplicados = True\n",
        "      break\n",
        "  if tem_duplicados:\n",
        "    break\n",
        "\n",
        "if tem_duplicados:\n",
        "  print(\"\\nExistem pelo menos duas pessoas com a mesma altura e peso.\")\n",
        "else:\n",
        "  print(\"\\nNão existem duas pessoas com a mesma altura e peso.\")"
      ],
      "metadata": {
        "colab": {
          "base_uri": "https://localhost:8080/"
        },
        "id": "Yi3-tBhU-3Yt",
        "outputId": "5db5df4d-2d7c-431b-c52a-39dbfe463f7a"
      },
      "execution_count": 7,
      "outputs": [
        {
          "output_type": "stream",
          "name": "stdout",
          "text": [
            "Digite a altura da 1ª pessoa (em metros): 1.75\n",
            "Digite o peso da 1ª pessoa (em kg): 60\n",
            "Digite a altura da 2ª pessoa (em metros): 1.67\n",
            "Digite o peso da 2ª pessoa (em kg): 65\n",
            "Digite a altura da 3ª pessoa (em metros): 1.90\n",
            "Digite o peso da 3ª pessoa (em kg): 110\n",
            "Digite a altura da 4ª pessoa (em metros): 1.75\n",
            "Digite o peso da 4ª pessoa (em kg): 78.7\n",
            "Digite a altura da 5ª pessoa (em metros): 1.65\n",
            "Digite o peso da 5ª pessoa (em kg): 65\n",
            "\n",
            "Não existem duas pessoas com a mesma altura e peso.\n"
          ]
        }
      ]
    },
    {
      "cell_type": "code",
      "source": [
        "#TAREFA 8\n",
        "#Faça um programa que solicita que o\n",
        "#usuário digite o nome e a idade de diversas\n",
        "#pessoas (o programa deve parar quando\n",
        "#um nome vazio for informado).\n",
        "#Retorne o nome da pessoa mais velha.\n",
        "\n",
        "pessoas = []\n",
        "\n",
        "while True:\n",
        "  nome = input(\"Digite o nome da pessoa (ou deixe em branco para parar): \")\n",
        "  if not nome:\n",
        "    break\n",
        "\n",
        "  while True:\n",
        "    try:\n",
        "      idade = int(input(f\"Digite a idade de {nome}: \"))\n",
        "      pessoas.append({\"nome\": nome, \"idade\": idade})\n",
        "      break\n",
        "    except ValueError:\n",
        "      print(\"Entrada inválida para idade. Por favor, digite um número inteiro.\")\n",
        "\n",
        "if pessoas:\n",
        "  pessoa_mais_velha = max(pessoas, key=lambda x: x['idade'])\n",
        "  print(f\"\\nA pessoa mais velha é: {pessoa_mais_velha['nome']}\")\n",
        "else:\n",
        "  print(\"\\nNenhuma pessoa foi digitada.\")"
      ],
      "metadata": {
        "colab": {
          "base_uri": "https://localhost:8080/"
        },
        "id": "5jroY8nW_Ohl",
        "outputId": "2119e522-90ab-4152-a867-415aedb81b6e"
      },
      "execution_count": 8,
      "outputs": [
        {
          "output_type": "stream",
          "name": "stdout",
          "text": [
            "Digite o nome da pessoa (ou deixe em branco para parar): Mariana\n",
            "Digite a idade de Mariana: 18\n",
            "Digite o nome da pessoa (ou deixe em branco para parar): Ana\n",
            "Digite a idade de Ana: 22\n",
            "Digite o nome da pessoa (ou deixe em branco para parar): Gina\n",
            "Digite a idade de Gina: 58\n",
            "Digite o nome da pessoa (ou deixe em branco para parar): Cacau\n",
            "Digite a idade de Cacau: 7\n",
            "Digite o nome da pessoa (ou deixe em branco para parar): \n",
            "\n",
            "A pessoa mais velha é: Gina\n"
          ]
        }
      ]
    },
    {
      "cell_type": "code",
      "source": [
        "#TAREFA 1\n",
        "#Dado o dicionário ao lado, imprima os\n",
        "#seguintes dados:\n",
        "# 1)Quantos alunos existem?\n",
        "# 2)Alguém tirou nota zero?\n",
        "# 3)Qual foi a menor nota?\n",
        "# 4)Qual foi a maior nota?\n",
        "\n",
        "alunos = {\n",
        "    \"Alice\": 8.5,\n",
        "    \"Bruno\": 7.8,\n",
        "    \"Carla\": 9.2,\n",
        "    \"Diego\": 6.9,\n",
        "    \"Eva\": 8.0,\n",
        "    \"Fernando\": 7.5,\n",
        "    \"Gabriela\": 9.0,\n",
        "    \"Henrique\": 6.7,\n",
        "    \"Isabela\": 8.3,\n",
        "    \"João\": 7.2\n",
        "}\n",
        "\n",
        "# 1) Quantos alunos existem?\n",
        "quantidade_alunos = len(alunos)\n",
        "print(f\"1) Quantos alunos existem? {quantidade_alunos}\")\n",
        "\n",
        "# 2) Alguém tirou nota zero?\n",
        "alguem_tirou_zero = 0 in alunos.values()\n",
        "print(f\"2) Alguém tirou nota zero? {'Sim' if alguem_tirou_zero else 'Não'}\")\n",
        "\n",
        "# 3) Qual foi a menor nota?\n",
        "menor_nota = min(alunos.values())\n",
        "print(f\"3) Qual foi a menor nota? {menor_nota}\")\n",
        "\n",
        "# 4) Qual foi a maior nota?\n",
        "maior_nota = max(alunos.values())\n",
        "print(f\"4) Qual foi a maior nota? {maior_nota}\")"
      ],
      "metadata": {
        "colab": {
          "base_uri": "https://localhost:8080/"
        },
        "id": "TXTijaSP_mi6",
        "outputId": "3befbbd8-9a79-45e5-8101-3d8f6cc27258"
      },
      "execution_count": 9,
      "outputs": [
        {
          "output_type": "stream",
          "name": "stdout",
          "text": [
            "1) Quantos alunos existem? 10\n",
            "2) Alguém tirou nota zero? Não\n",
            "3) Qual foi a menor nota? 6.7\n",
            "4) Qual foi a maior nota? 9.2\n"
          ]
        }
      ]
    },
    {
      "cell_type": "code",
      "source": [
        "#TAREFA 2\n",
        "#Dado o dicionário ao lado:\n",
        "# 1)Imprima o total de episódios;\n",
        "# 2)Substitua a quantidade de episódios pelo\n",
        "#percentual (ep_anime/ep_total);\n",
        "# 3)Imprima nome e percentual de cada\n",
        "#anime, em ordem decrescente de\n",
        "#percentual.\n",
        "\n",
        "animes = {\n",
        "    \"Naruto\": 220,\n",
        "    \"Jujutsu Kaisen\": 47,\n",
        "    \"Dragon Ball Z\": 291,\n",
        "    \"Death Note\": 37,\n",
        "    \"Fullmetal Alchemist\": 64,\n",
        "    \"Evangelion\": 26,\n",
        "    \"Berserk\": 25,\n",
        "    \"Code Geass\": 50,\n",
        "    \"Akame ga Kill!\": 24,\n",
        "    \"Elfen Lied\": 13\n",
        "}\n",
        "\n",
        "# 1) Imprima o total de episódios\n",
        "total_episodios = sum(animes.values())\n",
        "print(f\"1) Total de episódios: {total_episodios}\")\n",
        "\n",
        "# 2) Substitua a quantidade de episódios pelo percentual (ep_anime/ep_total)\n",
        "percentuais_animes = {anime: (episodios / total_episodios) * 100 for anime, episodios in animes.items()}\n",
        "\n",
        "# 3) Imprima nome e percentual de cada anime, em ordem decrescente de percentual\n",
        "print(\"\\n3) Percentual de episódios por anime (em ordem decrescente):\")\n",
        "for anime, percentual in sorted(percentuais_animes.items(), key=lambda item: item[1], reverse=True):\n",
        "    print(f\"{anime}: {percentual:.2f}%\")"
      ],
      "metadata": {
        "colab": {
          "base_uri": "https://localhost:8080/"
        },
        "id": "G13qvvrFAXKr",
        "outputId": "d548ea19-fc93-4e69-b229-915b7d692566"
      },
      "execution_count": 10,
      "outputs": [
        {
          "output_type": "stream",
          "name": "stdout",
          "text": [
            "1) Total de episódios: 797\n",
            "\n",
            "3) Percentual de episódios por anime (em ordem decrescente):\n",
            "Dragon Ball Z: 36.51%\n",
            "Naruto: 27.60%\n",
            "Fullmetal Alchemist: 8.03%\n",
            "Code Geass: 6.27%\n",
            "Jujutsu Kaisen: 5.90%\n",
            "Death Note: 4.64%\n",
            "Evangelion: 3.26%\n",
            "Berserk: 3.14%\n",
            "Akame ga Kill!: 3.01%\n",
            "Elfen Lied: 1.63%\n"
          ]
        }
      ]
    },
    {
      "cell_type": "code",
      "source": [
        "#TAREFA 3\n",
        "#Dado o dicionário ao lado:\n",
        "# 1)Imprima o álbum mais antigo;\n",
        "# 2) Imprima a banda que tem o maior\n",
        "#intervalo entre os álbuns;\n",
        "# 3)Imprima todos os álbuns do mais novo\n",
        "#para o mais antigo, dizendo também o\n",
        "#nome da banda.\n",
        "\n",
        "bandas = {\n",
        "\"Gangrena Gasosa\": [\n",
        "{\"álbum\": \"Gente Ruim Só Manda Lembrança Pra Quem Não Presta\", \"ano\":\n",
        "2019},\n",
        "{\"álbum\": \"Se Deus É 10, Satanás É 666\", \"ano\": 1999},\n",
        "{\"álbum\": \"Welcome to the Macumba\", \"ano\": 1993}\n",
        "],\n",
        "\"Rogério Skylab\": [\n",
        "{\"álbum\": \"Nas Portas do Cu\", \"ano\": 2023},\n",
        "{\"álbum\": \"Crítica da Faculdade do Cu\", \"ano\": 2021},\n",
        "{\"álbum\": \"Cosmos\", \"ano\": 2019}\n",
        "],\n",
        "\"Garotos Podres\": [\n",
        "{\"álbum\": \"Canções para Ninar\", \"ano\": 2003},\n",
        "{\"álbum\": \"Com a Corda Toda\", \"ano\": 1997},\n",
        "{\"álbum\": \"Rock de Subúrbio\", \"ano\": 1995}\n",
        "],\n",
        "\"Massacration\": [\n",
        "{\"álbum\": \"Live Metal Espancation\", \"ano\": 2017},\n",
        "{\"álbum\": \"Good Blood Headbanguers\", \"ano\": 2009},\n",
        "{\"álbum\": \"Gates of Metal Fried Chicken of Death\", \"ano\": 2005}\n",
        "],\n",
        "\"Raimundos\": [\n",
        "{\"álbum\": \"Cantigas de Roda\", \"ano\": 2014},\n",
        "{\"álbum\": \"Roda Viva\", \"ano\": 2006},\n",
        "{\"álbum\": \"Éramos 4\", \"ano\": 2001}\n",
        "]\n",
        "}\n",
        "\n",
        "# Imprima o álbum mais antigo\n",
        "album_mais_antigo = None\n",
        "ano_mais_antigo = float('inf')\n",
        "\n",
        "for banda, albuns in bandas.items():\n",
        "    for album in albuns:\n",
        "        if album[\"ano\"] < ano_mais_antigo:\n",
        "            ano_mais_antigo = album[\"ano\"]\n",
        "            album_mais_antigo = album[\"álbum\"]\n",
        "            banda_album_mais_antigo = banda\n",
        "\n",
        "print(f\"O álbum mais antigo é '{album_mais_antigo}' da banda {banda_album_mais_antigo}.\")\n",
        "\n",
        "# imprima a banda que tem o maior intervalo entre os álbuns\n",
        "maior_intervalo = 0\n",
        "banda_maior_intervalo = None\n",
        "\n",
        "for banda, albuns in bandas.items():\n",
        "    anos = [album[\"ano\"] for album in albuns]\n",
        "    if len(anos) > 1:\n",
        "        intervalo = max(anos) - min(anos)\n",
        "        if intervalo > maior_intervalo:\n",
        "            maior_intervalo = intervalo\n",
        "            banda_maior_intervalo = banda\n",
        "\n",
        "if banda_maior_intervalo:\n",
        "    print(f\"A banda com o maior intervalo entre os álbuns é: {banda_maior_intervalo} ({maior_intervalo} anos)\")\n",
        "else:\n",
        "    print(\"Não foi possível calcular o intervalo entre álbuns para nenhuma banda (menos de 2 álbuns).\")\n",
        "\n",
        "# Imprima todos os álbuns do mais novo para o mais antigo, dizendo também o nome da banda\n",
        "todos_albuns = []\n",
        "for banda, albuns in bandas.items():\n",
        "    for album in albuns:\n",
        "        todos_albuns.append({\"álbum\": album[\"álbum\"], \"ano\": album[\"ano\"], \"banda\": banda})\n",
        "\n",
        "todos_albuns_ordenados = sorted(todos_albuns, key=lambda x: x[\"ano\"], reverse=True)\n",
        "\n",
        "print(\"\\nTodos os álbuns (do mais novo para o mais antigo):\")\n",
        "for album in todos_albuns_ordenados:\n",
        "    print(f\"- {album['álbum']} ({album['ano']}) - {album['banda']}\")"
      ],
      "metadata": {
        "colab": {
          "base_uri": "https://localhost:8080/"
        },
        "id": "LqE9-WibBNAY",
        "outputId": "7bc34010-5de6-4d15-9a3b-eea7e2311d5e"
      },
      "execution_count": 11,
      "outputs": [
        {
          "output_type": "stream",
          "name": "stdout",
          "text": [
            "O álbum mais antigo é 'Welcome to the Macumba' da banda Gangrena Gasosa.\n",
            "A banda com o maior intervalo entre os álbuns é: Gangrena Gasosa (26 anos)\n",
            "\n",
            "Todos os álbuns (do mais novo para o mais antigo):\n",
            "- Nas Portas do Cu (2023) - Rogério Skylab\n",
            "- Crítica da Faculdade do Cu (2021) - Rogério Skylab\n",
            "- Gente Ruim Só Manda Lembrança Pra Quem Não Presta (2019) - Gangrena Gasosa\n",
            "- Cosmos (2019) - Rogério Skylab\n",
            "- Live Metal Espancation (2017) - Massacration\n",
            "- Cantigas de Roda (2014) - Raimundos\n",
            "- Good Blood Headbanguers (2009) - Massacration\n",
            "- Roda Viva (2006) - Raimundos\n",
            "- Gates of Metal Fried Chicken of Death (2005) - Massacration\n",
            "- Canções para Ninar (2003) - Garotos Podres\n",
            "- Éramos 4 (2001) - Raimundos\n",
            "- Se Deus É 10, Satanás É 666 (1999) - Gangrena Gasosa\n",
            "- Com a Corda Toda (1997) - Garotos Podres\n",
            "- Rock de Subúrbio (1995) - Garotos Podres\n",
            "- Welcome to the Macumba (1993) - Gangrena Gasosa\n"
          ]
        }
      ]
    }
  ]
}